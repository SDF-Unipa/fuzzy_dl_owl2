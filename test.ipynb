{
 "cells": [
  {
   "cell_type": "code",
   "execution_count": 1,
   "metadata": {},
   "outputs": [
    {
     "name": "stdout",
     "output_type": "stream",
     "text": [
      "Debugging mode = True\n"
     ]
    }
   ],
   "source": [
    "from fuzzy_dl_owl2 import FuzzyOwl2ToFuzzyDL\n",
    "\n",
    "fdl = FuzzyOwl2ToFuzzyDL(\"multiCriteria.owl\", \"owl.fdl\")\n",
    "fdl.translate_owl2ontology()"
   ]
  },
  {
   "cell_type": "code",
   "execution_count": null,
   "metadata": {},
   "outputs": [
    {
     "data": {
      "text/plain": [
       "[DataPropertyRange([] DataProperty(http://www.semanticweb.org/ontologies/2010/4/Ontology1274281145890.owl#hasScore) DataIntersectionOf(DatatypeRestriction(Datatype(http://www.w3.org/2001/XMLSchema#double) Facet(http://www.w3.org/2001/XMLSchema#maxInclusive 1)) DatatypeRestriction(Datatype(http://www.w3.org/2001/XMLSchema#double) Facet(http://www.w3.org/2001/XMLSchema#minInclusive 0))))]"
      ]
     },
     "execution_count": 2,
     "metadata": {},
     "output_type": "execute_result"
    }
   ],
   "source": [
    "from pyowl2 import OWLOntology\n",
    "from rdflib import Namespace, URIRef\n",
    "from pyowl2.getter.rdf_xml_getter import AxiomsType\n",
    "\n",
    "base = URIRef(\"http://example.com#\")\n",
    "owl = OWLOntology(base, \"multiCriteria.owl\", OWL1_annotations=True)\n",
    "owl.get_axioms(AxiomsType.DATA_PROPERTY_RANGE)"
   ]
  },
  {
   "cell_type": "code",
   "execution_count": null,
   "metadata": {},
   "outputs": [
    {
     "name": "stdout",
     "output_type": "stream",
     "text": [
      "<fuzzyOwl2 fuzzytype=\"concept\">\n",
      "    <Concept type=\"owa\">\n",
      "        <Weights>\n",
      "            <Weight>1</Weight>\n",
      "            <Weight>3</Weight>\n",
      "            <Weight>4</Weight>\n",
      "        </Weights>\n",
      "        <Names>\n",
      "            <Name>a1</Name>\n",
      "            <Name>a2</Name>\n",
      "            <Name>a3</Name>\n",
      "        </Names>\n",
      "    </Concept>\n",
      "</fuzzyOwl2>\n",
      "\n"
     ]
    }
   ],
   "source": [
    "from xml.dom import minidom\n",
    "\n",
    "\n",
    "from fuzzy_dl_owl2 import FuzzyXML\n",
    "\n",
    "c1 = FuzzyXML.build_main_xml(\"concept\")\n",
    "c2 = FuzzyXML.build_concept_xml(\"owa\")\n",
    "c3 = FuzzyXML.build_weights_xml([1, 3, 4])\n",
    "c4 = FuzzyXML.build_names_xml([\"a1\", \"a2\", \"a3\"])\n",
    "c2.append(c3)\n",
    "c2.append(c4)\n",
    "c1.append(c2)\n",
    "\n",
    "print(FuzzyXML.to_str(c1))"
   ]
  },
  {
   "cell_type": "code",
   "execution_count": 1,
   "metadata": {},
   "outputs": [
    {
     "name": "stdout",
     "output_type": "stream",
     "text": [
      "triangular(0.0, 0.0, 0.4, 0.45, 0.5)\n",
      "left-shoulder(0.0, 0.0, 0.4, 0.45)\n",
      "(w-sum-zero [(0.5 LocalValoration11), (0.5 LocalValoration12)])\n",
      "(q-owa Q Suca1 Suca2 Suca3)\n",
      "(owa (1.0 2.0 3.0) (Suca1 Suca2 Suca3))\n",
      "(Suca1, Suca2)\n"
     ]
    }
   ],
   "source": [
    "from fuzzy_dl_owl2 import FuzzyOwl2XMLParser\n",
    "\n",
    "texts = [\n",
    "    \"\"\"<fuzzyOwl2 fuzzyType=\"datatype\">\n",
    "  <Datatype type=\"triangular\" a=\"0.4\" b=\"0.45\" c=\"0.5\" />\n",
    "</fuzzyOwl2>\"\"\",\n",
    "    \"\"\"<fuzzyOwl2 fuzzyType=\"datatype\">\n",
    "  <Datatype type=\"leftshoulder\" a=\"0.4\" b=\"0.45\" />\n",
    "</fuzzyOwl2>\"\"\",\n",
    "    \"\"\"<fuzzyOwl2 fuzzyType=\"concept\">\n",
    "    <Concept type=\"weightedSumZero\">\n",
    "      <Concept type=\"weighted\" value=\"0.5\" base=\"LocalValoration11\" />\n",
    "      <Concept type=\"weighted\" value=\"0.5\" base=\"LocalValoration12\" />\n",
    "    </Concept>\n",
    "  </fuzzyOwl2>\"\"\",\n",
    "    \"\"\"<fuzzyOwl2 fuzzyType=\"concept\">\n",
    "    <Concept type=\"qowa\" quantifier=\"Q\">\n",
    "      <Names>\n",
    "        <Name>Suca1</Name>\n",
    "        <Name>Suca2</Name>\n",
    "        <Name>Suca3</Name>\n",
    "      </Names>\n",
    "    </Concept>\n",
    "  </fuzzyOwl2>\"\"\",\n",
    "    \"\"\"<fuzzyOwl2 fuzzyType=\"concept\">\n",
    "    <Concept type=\"owa\">\n",
    "      <Weights>\n",
    "        <Weight>1</Weight>\n",
    "        <Weight>2</Weight>\n",
    "        <Weight>3</Weight>\n",
    "      </Weights>\n",
    "      <Names>\n",
    "        <Name>Suca1</Name>\n",
    "        <Name>Suca2</Name>\n",
    "        <Name>Suca3</Name>\n",
    "      </Names>\n",
    "    </Concept>\n",
    "  </fuzzyOwl2>\"\"\",\n",
    "    \"\"\"<fuzzyOwl2 fuzzyType=\"role\">\n",
    "    <Role type=\"modified\" modifier=\"Suca1\" base=\"Suca2\"/>\n",
    "  </fuzzyOwl2>\"\"\",\n",
    "]\n",
    "for text in texts:\n",
    "    print(FuzzyOwl2XMLParser.parse_string(text))"
   ]
  },
  {
   "cell_type": "code",
   "execution_count": null,
   "metadata": {},
   "outputs": [],
   "source": []
  }
 ],
 "metadata": {
  "kernelspec": {
   "display_name": "Python 3",
   "language": "python",
   "name": "python3"
  },
  "language_info": {
   "codemirror_mode": {
    "name": "ipython",
    "version": 3
   },
   "file_extension": ".py",
   "mimetype": "text/x-python",
   "name": "python",
   "nbconvert_exporter": "python",
   "pygments_lexer": "ipython3",
   "version": "3.11.12"
  }
 },
 "nbformat": 4,
 "nbformat_minor": 2
}
